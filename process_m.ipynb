{
 "cells": [
  {
   "cell_type": "markdown",
   "id": "c75c2b50-4bf5-4779-8d39-a7da5d79b082",
   "metadata": {},
   "source": [
    "# This is a script for preprocessing"
   ]
  },
  {
   "cell_type": "markdown",
   "id": "e9d1ef12-f689-41dd-a644-482ed230907a",
   "metadata": {},
   "source": [
    "# ERA5 2-m Air Temperature"
   ]
  },
  {
   "cell_type": "code",
   "execution_count": 1,
   "id": "35d09177-0d49-4130-b084-ee1a7a8e4476",
   "metadata": {},
   "outputs": [
    {
     "name": "stdout",
     "output_type": "stream",
     "text": [
      "Starting parallel pool (parpool) using the 'Processes' profile ...\n",
      "Connected to parallel pool with 10 workers.\n",
      "\n",
      "ans = \n",
      "\n",
      " ProcessPool with properties: \n",
      "\n",
      "            Connected: true\n",
      "           NumWorkers: 10\n",
      "                 Busy: false\n",
      "              Cluster: Processes (Local Cluster)\n",
      "        AttachedFiles: {}\n",
      "    AutoAddClientPath: true\n",
      "            FileStore: [1x1 parallel.FileStore]\n",
      "           ValueStore: [1x1 parallel.ValueStore]\n",
      "          IdleTimeout: 30 minutes (30 minutes remaining)\n",
      "          SpmdEnabled: true\n",
      "\n"
     ]
    }
   ],
   "source": [
    "parpool(10)"
   ]
  },
  {
   "cell_type": "code",
   "execution_count": 3,
   "id": "cb96cac6-9b4f-4645-8167-2b72ff201d69",
   "metadata": {
    "tags": []
   },
   "outputs": [
    {
     "data": {
      "text/html": [
       "<html><body><pre>ans = 1x4 double\n",
       "   360   181   365    40\n",
       "</pre></body></html>"
      ],
      "text/plain": [
       "ans = 1x4 double\n",
       "   360   181   365    40\n"
      ]
     },
     "execution_count": 3,
     "metadata": {},
     "output_type": "execute_result"
    }
   ],
   "source": [
    "path='/glade/campaign/univ/ufsu0029/ERA5/t2m';\n",
    "\n",
    "t2m=nan*zeros(360,181,365,40);\n",
    "parfor m=1:40\n",
    "    \n",
    "    aa=ncread(append(path,'/t2m_',num2str(m+1980),'.nc'),'t2m');\n",
    "    aa=reshape(aa,size(aa,1),size(aa,2),4,[]);\n",
    "    aa=squeeze(mean(aa,3));\n",
    "    if(size(aa,3)>365.5);aa(:,:,60)=[];end\n",
    "    t2m(:,:,:,m)=aa;\n",
    "    \n",
    "end\n",
    "size(t2m)"
   ]
  },
  {
   "cell_type": "code",
   "execution_count": 7,
   "id": "70de4d52-53c8-4184-9803-b487b8f44a02",
   "metadata": {},
   "outputs": [],
   "source": [
    "lon=[0:359]';\n",
    "lat=[90:-1:-90]';\n",
    "t2m=single(t2m);\n",
    "save('/glade/campaign/univ/ufsu0029/work/Data/ERA5/t2m_8020.mat','t2m','lon','lat','-v7.3');"
   ]
  },
  {
   "cell_type": "markdown",
   "id": "bcdd22a6-79ea-4253-a305-287882ef0327",
   "metadata": {},
   "source": [
    "# NCEP2 2-m Air Temperature"
   ]
  },
  {
   "cell_type": "code",
   "execution_count": 8,
   "id": "a12494e3-1783-412a-b1c8-baad0da474c4",
   "metadata": {
    "tags": []
   },
   "outputs": [
    {
     "data": {
      "text/html": [
       "<html><body><pre>ans = 1x4 double\n",
       "   192    94   365    40\n",
       "</pre></body></html>"
      ],
      "text/plain": [
       "ans = 1x4 double\n",
       "   192    94   365    40\n"
      ]
     },
     "execution_count": 8,
     "metadata": {},
     "output_type": "execute_result"
    }
   ],
   "source": [
    "path='/glade/campaign/univ/ufsu0029/NCEP_DOE/t2m/';\n",
    "\n",
    "air2m=nan*zeros(192,94,365,40);\n",
    "parfor m=1:40\n",
    "    \n",
    "    aa=ncread(append(path,'/air.2m.gauss.',num2str(m+1980),'.nc'),'air');\n",
    "    aa=reshape(aa,size(aa,1),size(aa,2),4,[]);\n",
    "    aa=squeeze(mean(aa,3));\n",
    "    if(size(aa,3)>365.5);aa(:,:,60)=[];end\n",
    "    air2m(:,:,:,m)=aa;\n",
    "    \n",
    "end\n",
    "size(air2m)"
   ]
  },
  {
   "cell_type": "code",
   "execution_count": 9,
   "id": "66c9c077-6d88-42e1-8a5b-228ee867598f",
   "metadata": {},
   "outputs": [],
   "source": [
    "lon=ncread(append(path,'/air.2m.gauss.',num2str(1+1980),'.nc'),'lon');\n",
    "lat=ncread(append(path,'/air.2m.gauss.',num2str(1+1980),'.nc'),'lat');\n",
    "air2m=single(air2m);\n",
    "save('/glade/campaign/univ/ufsu0029/work/Data/NCEP_DOE/air2m_8020.mat','air2m','lon','lat','-v7.3');"
   ]
  },
  {
   "cell_type": "markdown",
   "id": "2ec19135-c23e-4761-9919-d3bd64f5a202",
   "metadata": {},
   "source": [
    "# ERA5 Sea Ice Cover"
   ]
  },
  {
   "cell_type": "code",
   "execution_count": 10,
   "id": "0b28a311-9177-4c12-842b-b7dbe84898f4",
   "metadata": {
    "tags": []
   },
   "outputs": [
    {
     "data": {
      "text/html": [
       "<html><body><pre>ans = 1x4 double\n",
       "   360   181   365    40\n",
       "</pre></body></html>"
      ],
      "text/plain": [
       "ans = 1x4 double\n",
       "   360   181   365    40\n"
      ]
     },
     "execution_count": 10,
     "metadata": {},
     "output_type": "execute_result"
    }
   ],
   "source": [
    "path='/glade/campaign/univ/ufsu0029/ERA5/sic/';\n",
    "\n",
    "sic=nan*zeros(360,181,365,40);\n",
    "parfor m=1:40\n",
    "    \n",
    "    aa=ncread(append(path,'/sic_',num2str(m+1980),'.nc'),'siconc');\n",
    "    aa=reshape(aa,size(aa,1),size(aa,2),4,[]);\n",
    "    aa=squeeze(mean(aa,3));\n",
    "    if(size(aa,3)>365.5);aa(:,:,60)=[];end\n",
    "    sic(:,:,:,m)=aa;\n",
    "    \n",
    "end\n",
    "size(sic)"
   ]
  },
  {
   "cell_type": "code",
   "execution_count": 11,
   "id": "e936ccfc-0417-4997-996e-4be1809fcb24",
   "metadata": {},
   "outputs": [],
   "source": [
    "lon=ncread(append(path,'/sic_',num2str(1+1980),'.nc'),'longitude');\n",
    "lat=ncread(append(path,'/sic_',num2str(1+1980),'.nc'),'latitude');\n",
    "sic=single(sic);\n",
    "save('/glade/campaign/univ/ufsu0029/work/Data/ERA5/sic_8020.mat','sic','lon','lat','-v7.3');"
   ]
  },
  {
   "cell_type": "markdown",
   "id": "2ce7281f-9ee3-4104-803c-5fb68ed0794d",
   "metadata": {},
   "source": [
    "# ERA5 V Wind"
   ]
  },
  {
   "cell_type": "code",
   "execution_count": 20,
   "id": "512f1c49-1f0b-493c-8aba-b02a5ad0742c",
   "metadata": {
    "scrolled": true,
    "tags": []
   },
   "outputs": [
    {
     "data": {
      "text/html": [
       "<html><body><pre>ans = 1x3 double\n",
       "   360   181    40\n",
       "</pre></body></html>"
      ],
      "text/plain": [
       "ans = 1x3 double\n",
       "   360   181    40\n"
      ]
     },
     "execution_count": 20,
     "metadata": {},
     "output_type": "execute_result"
    }
   ],
   "source": [
    "path='/glade/campaign/univ/ufsu0029/ERA5/';\n",
    "\n",
    "R=6370000;dp=10000;g=10;lat=[90:-1:-90];\n",
    "v_n=nan*zeros(360,181,40);\n",
    "v_s=nan*zeros(360,181,40);\n",
    "parfor m=1:40\n",
    "    \n",
    "    aa0=ncread(append(path,'/vwnd/v_plev_',num2str(m+1980),'.nc'),'v');\n",
    "    aa2=ncread(append(path,'/sp/sp_',num2str(m+1980),'.nc'),'sp');\n",
    "    mask=(1+zeros(size(aa0))).*reshape(100*[950:-100:50],1,1,[]);\n",
    "    aa0(mask>reshape(aa2,size(aa2,1),size(aa2,2),1,size(aa2,3)))=nan;\n",
    "\n",
    "    aa1=aa0*dp/g;\n",
    "    aa1(aa1>0)=nan;\n",
    "    aa1=squeeze(mean(sum(aa1,3,'omitnan'),4));\n",
    "    aa2=aa0*dp/g;\n",
    "    aa2(aa2<0)=nan;\n",
    "    aa2=squeeze(mean(sum(aa2,3,'omitnan'),4));\n",
    "    \n",
    "    v_s(:,:,m)=aa1;\n",
    "    v_n(:,:,m)=aa2;\n",
    "    \n",
    "end\n",
    "size(v_n)"
   ]
  },
  {
   "cell_type": "code",
   "execution_count": 17,
   "id": "8a8321c5-3be5-4ed7-8121-dd1f9e73e25f",
   "metadata": {},
   "outputs": [],
   "source": [
    "save('/glade/campaign/univ/ufsu0029/work/Data/ERA5/meridional_velocity.mat','v_n','v_s','lat'); %kg/m/s"
   ]
  },
  {
   "cell_type": "markdown",
   "id": "f0cbefff-90cf-455c-80af-8ddda40bfe39",
   "metadata": {},
   "source": [
    "# CESM2 Solar Irradaince & Temperature"
   ]
  },
  {
   "cell_type": "code",
   "execution_count": 18,
   "id": "3b4d18f7-4f1b-488b-89be-130535f4f1e9",
   "metadata": {
    "tags": []
   },
   "outputs": [],
   "source": [
    "path='/glade/campaign/univ/ufsu0029/eccentricity/';\n",
    "file1=dir(append(path,'/B1850/B1850*'));\n",
    "file2=dir(append(path,'/e000_lop000/e000_lop000*'));\n",
    "file3=dir(append(path,'/e167_lop280/e167_lop280*'));\n",
    "\n",
    "t2m_m=nan*zeros(144,96,365,50,3);\n",
    "solar_m=nan*zeros(144,96,365,50,3);\n",
    "parfor m=1:50\n",
    "\n",
    "    bb=nan*zeros(144,96,365,1,3);\n",
    "    aa=ncread(append(path,'/B1850/',file1(m).name),'TS');\n",
    "    bb(:,:,:,:,1)=aa;\n",
    "    aa=ncread(append(path,'/e000_lop000/',file2(m).name),'TS');\n",
    "    bb(:,:,:,:,2)=aa;\n",
    "    aa=ncread(append(path,'/e167_lop280/',file3(m).name),'TS');\n",
    "    bb(:,:,:,:,3)=aa;\n",
    "    t2m_m(:,:,:,m,:)=bb;\n",
    "    \n",
    "    bb=nan*zeros(144,96,365,1,3);\n",
    "    aa=ncread(append(path,'/B1850/',file1(m).name),'SOLIN');\n",
    "    bb(:,:,:,:,1)=aa;\n",
    "    aa=ncread(append(path,'/e000_lop000/',file2(m).name),'SOLIN');\n",
    "    bb(:,:,:,:,2)=aa;\n",
    "    aa=ncread(append(path,'/e167_lop280/',file3(m).name),'SOLIN');\n",
    "    bb(:,:,:,:,3)=aa;\n",
    "    solar_m(:,:,:,m,:)=bb;\n",
    "\n",
    "end\n",
    "\n",
    "solar_m=squeeze(mean(solar_m,4));\n",
    "lon3=ncread(append(path,'/B1850/',file1(1).name),'lon');\n",
    "lat3=ncread(append(path,'/B1850/',file1(1).name),'lat');"
   ]
  },
  {
   "cell_type": "code",
   "execution_count": 19,
   "id": "92ecc05f-aa55-4391-b34e-820832503f80",
   "metadata": {},
   "outputs": [],
   "source": [
    "lon=ncread(append(path,'/B1850/',file1(1).name),'lon');\n",
    "lat=ncread(append(path,'/B1850/',file1(1).name),'lat');\n",
    "t2m_m=single(t2m_m);\n",
    "save('/glade/campaign/univ/ufsu0029/work/Data/eccen/solar_m.mat','solar_m','lon','lat');\n",
    "save('/glade/campaign/univ/ufsu0029/work/Data/eccen/t2m_m.mat','t2m_m','lon','lat','-v7.3');"
   ]
  }
 ],
 "metadata": {
  "kernelspec": {
   "display_name": "MATLAB Kernel",
   "language": "matlab",
   "name": "jupyter_matlab_kernel"
  },
  "language_info": {
   "file_extension": ".m",
   "mimetype": "text/x-matlab",
   "name": "matlab"
  }
 },
 "nbformat": 4,
 "nbformat_minor": 5
}
