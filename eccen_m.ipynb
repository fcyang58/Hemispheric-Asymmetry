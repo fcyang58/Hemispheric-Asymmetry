{
 "cells": [
  {
   "cell_type": "markdown",
   "id": "58109dc1-63be-4939-aca7-536a1f4f8afa",
   "metadata": {},
   "source": [
    "# this is a script for eccentricity"
   ]
  },
  {
   "cell_type": "markdown",
   "id": "ce3f5fe8-8ccd-442d-99b0-e6d37100be9e",
   "metadata": {},
   "source": [
    "# Read Data"
   ]
  },
  {
   "cell_type": "code",
   "execution_count": 1,
   "id": "9b78bb95-c245-4fb1-9b99-f8047df6b1c3",
   "metadata": {},
   "outputs": [],
   "source": [
    "% ERA5 SAT&SIC 1980-2020\n",
    "load('/glade/campaign/univ/ufsu0029/work/Data/ERA5/t2m_8020.mat');\n",
    "load('/glade/campaign/univ/ufsu0029/work/Data/ERA5/sic_8020.mat');\n",
    "lon2=lon;lat2=lat;"
   ]
  },
  {
   "cell_type": "code",
   "execution_count": 2,
   "id": "6d196b7e-4c15-4e6e-a75c-753ee5e81016",
   "metadata": {},
   "outputs": [],
   "source": [
    "load('/glade/campaign/univ/ufsu0029/work/Data/ERA5/meridional_velocity.mat');"
   ]
  },
  {
   "cell_type": "code",
   "execution_count": 3,
   "id": "fdd0e88c-0e6c-45ff-ba23-be279dfd469e",
   "metadata": {},
   "outputs": [],
   "source": [
    "% NCEP2 SAT 1980-2020\n",
    "load('/glade/campaign/univ/ufsu0029/work/Data/NCEP_DOE/air2m_8020.mat');\n",
    "lon3=lon;lat3=lat;"
   ]
  },
  {
   "cell_type": "code",
   "execution_count": 4,
   "id": "ddcdb519-768d-4c88-8567-8f5b1177f31e",
   "metadata": {},
   "outputs": [],
   "source": [
    "% CESM2 SAT&solar\n",
    "load('/glade/campaign/univ/ufsu0029/work/Data/eccen/t2m_m.mat');\n",
    "load('/glade/campaign/univ/ufsu0029/work/Data/eccen/solar_m.mat');\n",
    "solar_m=squeeze(mean(solar_m,1));\n",
    "lon4=lon;lat4=lat;"
   ]
  },
  {
   "cell_type": "code",
   "execution_count": 5,
   "id": "349fe7c7-8dc6-4c58-bda0-9b01352bd018",
   "metadata": {},
   "outputs": [],
   "source": [
    "curr_path='/glade/campaign/univ/ufsu0029/work/MATLAB/annual_cycle/eccentricity/submit/';"
   ]
  },
  {
   "cell_type": "markdown",
   "id": "29a023b3-9975-4533-b705-6224a375edf1",
   "metadata": {},
   "source": [
    "# Example for Asymmetry"
   ]
  },
  {
   "cell_type": "markdown",
   "id": "66da79c9-883d-45a0-a7f6-da84f191b6d6",
   "metadata": {},
   "source": [
    "## semiannual&annual component in solar"
   ]
  },
  {
   "cell_type": "code",
   "execution_count": 15,
   "id": "ecea4020-c183-44f2-84b3-a66b1b4c8360",
   "metadata": {},
   "outputs": [],
   "source": [
    "sr=squeeze(solar_m([65,17],:,1));  % 30N, 60S\n",
    "lat0=lat4;\n",
    "\n",
    "aa1=sr;\n",
    "aa1=aa1-mean(aa1,2);\n",
    "aa=mean(aa1.*exp(1i*2*pi*reshape(1:2,1,1,[]).*[.5:365]/365),2);\n",
    "aa=2*real(aa.*exp(-1i*2*pi*reshape(1:2,1,1,[]).*[.5:365]/365));\n",
    "ex_sr=aa1;\n",
    "ex_sr(:,:,2:3)=aa;\n",
    "ex_sr(2,:,:)=ex_sr(2,[183:end,1:182],:);\n",
    "\n",
    "save(append(curr_path,'/ex_sr.mat'),'ex_sr');"
   ]
  },
  {
   "cell_type": "code",
   "execution_count": 16,
   "id": "26f20d2c-fcad-4b09-ad84-3c5abafbe7e9",
   "metadata": {},
   "outputs": [],
   "source": [
    "sr=squeeze(solar_m(:,:,1));\n",
    "lat0=lat4;\n",
    "\n",
    "aa1=sr;\n",
    "aa1=aa1-mean(aa1,2);\n",
    "aa=mean(aa1.*exp(1i*2*pi*reshape(1:2,1,1,[]).*[.5:365]/365),2);\n",
    "sr_an_sm=2*real(aa.*exp(-1i*2*pi*reshape(1:2,1,1,[]).*[.5:365]/365));\n",
    "\n",
    "lat0=(lat0([1,1:end])+lat0([1:end,end]))/2;\n",
    "lat0(1)=2*lat0(1)-lat0(2);\n",
    "lat0(end)=2*lat0(end)-lat0(end-1);\n",
    "day=[0:365]';\n",
    "save(append(curr_path,'sr_an_sm.mat'),'sr_an_sm','lat0','day');"
   ]
  },
  {
   "cell_type": "markdown",
   "id": "b0473821-9b0d-45e2-9a8b-f7466b46fd05",
   "metadata": {},
   "source": [
    "## Constant D"
   ]
  },
  {
   "cell_type": "markdown",
   "id": "0915e190-0340-4059-9e8c-6ca36f014fc0",
   "metadata": {},
   "source": [
    "### 50m"
   ]
  },
  {
   "cell_type": "code",
   "execution_count": 17,
   "id": "7dca2f8a-c650-4074-82d5-c27f5fc2241c",
   "metadata": {
    "tags": []
   },
   "outputs": [
    {
     "data": {
      "text/html": [
       "<html><body><pre>m = 73000</pre></body></html>"
      ],
      "text/plain": [
       "m = 73000"
      ]
     },
     "execution_count": 17,
     "metadata": {},
     "output_type": "execute_result"
    }
   ],
   "source": [
    "sr=squeeze(solar_m([65,17],:,1));\n",
    "sr(2,:)=sr(2,[183:end,1:182]);\n",
    "lat0=lat4;\n",
    "R=6370000;dy=2*pi/360*abs(lat0(1)-lat0(2))*R;\n",
    "\n",
    "sigma=5.67e-8; %W/(m2*K)\n",
    "Cpo=4e3;Cpa=1e3; %J/(kg*K)\n",
    "rhoodz=1e2; %kg/m2--dz=10cm\n",
    "ma=1e4; %kg/m2\n",
    "alpha=.1;gamma=.1;epsilon=.8;SL=0; %1\n",
    "\n",
    "dt=6*60*60;tt=50*365*86400/dt;\n",
    "t2=[0:dt/86400:364.9]; %date in a year\n",
    "\n",
    "D=50*(1+.0*cosd(reshape(t2,1,[])*360/365-30));\n",
    "sr1=sr;\n",
    "aa=mean(sr1.*exp(1i*2*pi*reshape([1:10],1,1,[]).*[.5:365]/365),2);\n",
    "aa=2*real(aa.*exp(-1i*2*pi*reshape([1:10],1,1,[]).*t2/365));\n",
    "sr1=sum(aa(:,:,1:4),3)+mean(sr1,2);\n",
    "\n",
    "To=zeros(size(sr1,1),1,tt)+290;\n",
    "Ta=zeros(size(sr1,1),1,tt)+290;\n",
    "aa1=zeros(size(sr1,1),tt);aa2=zeros(size(sr1,1),tt);\n",
    "for m=1:tt\n",
    "\n",
    "    mm=mod(m,size(sr1,2));\n",
    "    if(mm==0);mm=size(sr1,2);end\n",
    "    DD=round(10*D(mm));\n",
    "    \n",
    "    aa1(:,m)=(1-alpha)*(1-gamma)*sr1(:,mm) ...\n",
    "        +epsilon*sigma*Ta(:,1,m).^4-sigma*To(:,1,m).^4 ...\n",
    "        -SL*(To(:,1,m)-Ta(:,1,m));\n",
    "    aa2(:,m)=gamma*(1+alpha-alpha*gamma)*sr1(:,mm) ...\n",
    "        +epsilon*sigma*To(:,1,m).^4-epsilon*sigma*2*Ta(:,1,m).^4 ...\n",
    "        +SL*(To(:,1,m)-Ta(:,1,m));\n",
    "    if(m<5.4*365*86400/dt)\n",
    "        To(:,1,m+1)=To(:,1,m)+dt*aa1(:,m)/1e7;\n",
    "    else\n",
    "        To(:,1,m+1)=To(:,1,m)+dt*aa1(:,m)/(DD*Cpo*rhoodz);\n",
    "    end\n",
    "    Ta(:,1,m+1)=Ta(:,1,m)+dt*aa2(:,m)/(Cpa*ma);\n",
    "    \n",
    "    if(To(1,1,m+1)<0);break;end\n",
    "end\n",
    "m"
   ]
  },
  {
   "cell_type": "code",
   "execution_count": 18,
   "id": "084f6806-212a-41ab-b4be-216b5bd30b19",
   "metadata": {},
   "outputs": [],
   "source": [
    "aa1=To(:,end-365*4+2:4:end);\n",
    "aa1=aa1-mean(aa1,2);\n",
    "aa=mean(aa1.*exp(1i*2*pi*reshape([1:10],1,1,[]).*[.5:365]/365),2);\n",
    "aa=2*real(aa.*exp(-1i*2*pi*reshape([1:10],1,1,[]).*[1/48:1/24:365]/365));\n",
    "aa1=sum(aa(:,:,1:4),3);\n",
    "aa1(:,:,2:3)=aa(:,:,1:2);\n",
    "[~,imax]=max(aa1(:,:,1:2),[],2);imax=imax/24;\n",
    "[~,imin]=min(aa1(:,:,1:2),[],2);imin=imin/24;\n",
    "mm=imax;\n",
    "mm(:,2,:)=imin;\n",
    "imax(imax<imin)=imax(imax<imin)+365;\n",
    "mm(:,3,:)=365-2*(imax-imin);\n",
    "TT=aa1(:,12:24:end,:);\n",
    "\n",
    "save(append(curr_path,'full_50.mat'),'TT','mm');"
   ]
  },
  {
   "cell_type": "markdown",
   "id": "8cde6e62-6c08-4484-8b36-bc2c2013a5bc",
   "metadata": {},
   "source": [
    "### 2m"
   ]
  },
  {
   "cell_type": "code",
   "execution_count": 19,
   "id": "44f19b79-7486-41b5-bcbd-6b371bc19c3d",
   "metadata": {
    "tags": []
   },
   "outputs": [
    {
     "data": {
      "text/html": [
       "<html><body><pre>m = 73000</pre></body></html>"
      ],
      "text/plain": [
       "m = 73000"
      ]
     },
     "execution_count": 19,
     "metadata": {},
     "output_type": "execute_result"
    }
   ],
   "source": [
    "sr=squeeze(solar_m([65,17],:,1));\n",
    "sr(2,:)=sr(2,[183:end,1:182]);\n",
    "lat0=lat4;\n",
    "R=6370000;dy=2*pi/360*abs(lat0(1)-lat0(2))*R;\n",
    "\n",
    "sigma=5.67e-8; %W/(m2*K)\n",
    "Cpo=4e3;Cpa=1e3; %J/(kg*K)\n",
    "rhoodz=1e2; %kg/m2--dz=10cm\n",
    "ma=1e4; %kg/m2\n",
    "alpha=.1;gamma=.1;epsilon=.8;SL=0; %1\n",
    "\n",
    "dt=6*60*60;tt=50*365*86400/dt;\n",
    "t2=[0:dt/86400:364.9]; %date in a year\n",
    "\n",
    "D=2*(1+.0*cosd(reshape(t2,1,[])*360/365-30));\n",
    "sr1=sr;\n",
    "aa=mean(sr1.*exp(1i*2*pi*reshape([1:10],1,1,[]).*[.5:365]/365),2);\n",
    "aa=2*real(aa.*exp(-1i*2*pi*reshape([1:10],1,1,[]).*t2/365));\n",
    "sr1=sum(aa(:,:,1:4),3)+mean(sr1,2);\n",
    "\n",
    "To=zeros(size(sr1,1),1,tt)+290;\n",
    "Ta=zeros(size(sr1,1),1,tt)+290;\n",
    "aa1=zeros(size(sr1,1),tt);aa2=zeros(size(sr1,1),tt);\n",
    "for m=1:tt\n",
    "\n",
    "    mm=mod(m,size(sr1,2));\n",
    "    if(mm==0);mm=size(sr1,2);end\n",
    "    DD=round(10*D(mm));\n",
    "    \n",
    "    aa1(:,m)=(1-alpha)*(1-gamma)*sr1(:,mm) ...\n",
    "        +epsilon*sigma*Ta(:,1,m).^4-sigma*To(:,1,m).^4 ...\n",
    "        -SL*(To(:,1,m)-Ta(:,1,m));\n",
    "    aa2(:,m)=gamma*(1+alpha-alpha*gamma)*sr1(:,mm) ...\n",
    "        +epsilon*sigma*To(:,1,m).^4-epsilon*sigma*2*Ta(:,1,m).^4 ...\n",
    "        +SL*(To(:,1,m)-Ta(:,1,m));\n",
    "    if(m<5.5*365*86400/dt)\n",
    "        To(:,1,m+1)=To(:,1,m)+dt*aa1(:,m)/1e7;\n",
    "    else\n",
    "        To(:,1,m+1)=To(:,1,m)+dt*aa1(:,m)/(DD*Cpo*rhoodz);\n",
    "    end\n",
    "    Ta(:,1,m+1)=Ta(:,1,m)+dt*aa2(:,m)/(Cpa*ma);\n",
    "    \n",
    "    if(To(1,1,m+1)<0);break;end\n",
    "end\n",
    "m"
   ]
  },
  {
   "cell_type": "code",
   "execution_count": 20,
   "id": "748b3b5d-fa4c-4a91-81aa-b1d605737f5d",
   "metadata": {},
   "outputs": [],
   "source": [
    "aa1=To(:,end-365*4+2:4:end);\n",
    "aa1=aa1-mean(aa1,2);\n",
    "aa=mean(aa1.*exp(1i*2*pi*reshape([1:10],1,1,[]).*[.5:365]/365),2);\n",
    "aa=2*real(aa.*exp(-1i*2*pi*reshape([1:10],1,1,[]).*[1/48:1/24:365]/365));\n",
    "aa1=sum(aa(:,:,1:4),3);\n",
    "aa1(:,:,2:3)=aa(:,:,1:2);\n",
    "[~,imax]=max(aa1(:,:,1:2),[],2);imax=imax/24;\n",
    "[~,imin]=min(aa1(:,:,1:2),[],2);imin=imin/24;\n",
    "mm=imax;\n",
    "mm(:,2,:)=imin;\n",
    "imax(imax<imin)=imax(imax<imin)+365;\n",
    "mm(:,3,:)=365-2*(imax-imin);\n",
    "TT=aa1(:,12:24:end,:);\n",
    "\n",
    "save(append(curr_path,'full_2.mat'),'TT','mm');"
   ]
  },
  {
   "cell_type": "markdown",
   "id": "8a953f61-b87f-4da5-b908-9222bf714431",
   "metadata": {},
   "source": [
    "## Seasonal D Example"
   ]
  },
  {
   "cell_type": "markdown",
   "id": "2c557c98-9dc2-4236-a490-ed4f3ccdec93",
   "metadata": {},
   "source": [
    "### 30N"
   ]
  },
  {
   "cell_type": "code",
   "execution_count": 21,
   "id": "76a6aca6-2c72-45ff-b778-ebdfa36c1d44",
   "metadata": {
    "tags": []
   },
   "outputs": [
    {
     "data": {
      "text/html": [
       "<html><body><pre>m = 73000</pre></body></html>"
      ],
      "text/plain": [
       "m = 73000"
      ]
     },
     "execution_count": 21,
     "metadata": {},
     "output_type": "execute_result"
    }
   ],
   "source": [
    "sr=reshape(solar_m(65,:,1),1,[]); % 30N, 60S\n",
    "lat0=lat4;\n",
    "\n",
    "sigma=5.67e-8; %W/(m2*K)\n",
    "Cpo=4e3;Cpa=1e3; %J/(kg*K)\n",
    "rhoodz=1e2; %kg/m2--dz=10cm\n",
    "ma=1e4; %kg/m2\n",
    "alpha=.2;gamma=0;epsilon=1; %1\n",
    "\n",
    "dt=6*60*60;tt=50*365*4;\n",
    "t2=[0:(1/4):364.9]; %date in a year\n",
    "\n",
    "D=50*(1+.6*cosd(reshape(t2,1,[])*360/365-30));\n",
    "sr1=sr; % 29.5N--32, 29.5S--63\n",
    "aa=mean(sr1.*exp(1i*2*pi*reshape([1:10],1,1,[]).*[.5:365]/365),2);\n",
    "aa=2*real(aa.*exp(-1i*2*pi*reshape([1:10],1,1,[]).*t2/365));\n",
    "sr1=sum(aa(:,:,1:4),3)+mean(sr1,2);\n",
    "\n",
    "To=zeros(size(sr1,1),1000,tt)+290;\n",
    "Ta=zeros(size(sr1,1),1,tt)+290;\n",
    "aa1=zeros(size(sr1,1),1,tt);\n",
    "aa2=zeros(size(sr1,1),1,tt);\n",
    "for m=1:tt\n",
    "\n",
    "    mm=mod(m,size(sr1,2));\n",
    "    if(mm==0);mm=size(sr1,2);end\n",
    "    DD=round(10*D(mm));\n",
    "    \n",
    "    aa1(:,1,m)=(1-alpha)*sr1(:,mm) ...\n",
    "        +epsilon*sigma*Ta(:,1,m).^4-sigma*To(:,1,m).^4;\n",
    "    aa2(:,1,m)=gamma*sr1(:,mm) ...\n",
    "        +epsilon*sigma*To(:,1,m).^4-epsilon*sigma*2*Ta(:,1,m).^4;\n",
    "    \n",
    "    if(m<5.5*365*4)\n",
    "        To(:,:,m+1)=To(:,:,m)+dt*aa1(:,1,m)/4e7;\n",
    "        Ta(:,1,m+1)=Ta(:,1,m)+dt*aa2(:,1,m)/(Cpa*ma);\n",
    "    else\n",
    "        To(:,1:DD,m+1)=0*To(:,1:DD,1)+ ...\n",
    "            (sum(To(:,1:DD,m),2)*Cpo*rhoodz+dt*aa1(:,1,m))/(DD*Cpo*rhoodz);\n",
    "        To(:,DD+1:end,m+1)=To(:,DD+1:end,m);\n",
    "        Ta(:,1,m+1)=Ta(:,1,m)+dt*aa2(:,1,m)/(Cpa*ma);\n",
    "    end\n",
    "    if(To(1,1,m+1)<0);break;end\n",
    "end\n",
    "m"
   ]
  },
  {
   "cell_type": "code",
   "execution_count": 22,
   "id": "f4aebf4d-1d1b-4f54-8732-3cb14427dc63",
   "metadata": {},
   "outputs": [],
   "source": [
    "aa1=reshape(To(:,1,end-365*4+2:4:end),1,[]);\n",
    "aa1=aa1-mean(aa1,2);\n",
    "aa=mean(aa1.*exp(1i*2*pi*reshape([1:10],1,1,[]).*[.5:365]/365),2);\n",
    "aa=2*real(aa.*exp(-1i*2*pi*reshape([1:10],1,1,[]).*[1/48:1/24:365]/365));\n",
    "aa1=sum(aa(:,:,1:10),3);\n",
    "aa1(:,:,2:3)=aa(:,:,1:2);\n",
    "[~,imax]=max(aa1(:,:,1:2),[],2);imax=imax/24;\n",
    "[~,imin]=min(aa1(:,:,1:2),[],2);imin=imin/24;\n",
    "mm=imax;\n",
    "mm(:,2,:)=imin;\n",
    "imax(imax<imin)=imax(imax<imin)+365;\n",
    "mm(:,3,:)=365-2*(imax-imin);\n",
    "TT=aa1(:,12:24:end,:);\n",
    "\n",
    "DD=D(1:4:end);\n",
    "save(append(curr_path,'seasonal_30N.mat'),'TT','mm','DD');"
   ]
  },
  {
   "cell_type": "markdown",
   "id": "d4fee2d0-4d5e-4026-9942-31f0f71c8d1d",
   "metadata": {},
   "source": [
    "### 60S"
   ]
  },
  {
   "cell_type": "code",
   "execution_count": 23,
   "id": "44ef2662-7c09-4238-aeb5-7b2004557562",
   "metadata": {
    "tags": []
   },
   "outputs": [
    {
     "data": {
      "text/html": [
       "<html><body><pre>m = 73000</pre></body></html>"
      ],
      "text/plain": [
       "m = 73000"
      ]
     },
     "execution_count": 23,
     "metadata": {},
     "output_type": "execute_result"
    }
   ],
   "source": [
    "sr=reshape(solar_m(17,:,1),1,[]); % 60S\n",
    "sr=sr(1,[183:end,1:182]);\n",
    "lat0=lat4;\n",
    "\n",
    "sigma=5.67e-8; %W/(m2*K)\n",
    "Cpo=4e3;Cpa=1e3; %J/(kg*K)\n",
    "rhoodz=1e2; %kg/m2--dz=10cm\n",
    "ma=1e4; %kg/m2\n",
    "alpha=.2;gamma=0;epsilon=1; %1\n",
    "\n",
    "dt=6*60*60;tt=50*365*4;\n",
    "t2=[0:(1/4):364.9]; %date in a year\n",
    "\n",
    "D=50*(1-.6*cosd(reshape(t2,1,[])*360/365-30));\n",
    "sr1=sr;\n",
    "aa=mean(sr1.*exp(1i*2*pi*reshape([1:10],1,1,[]).*[.5:365]/365),2);\n",
    "aa=2*real(aa.*exp(-1i*2*pi*reshape([1:10],1,1,[]).*t2/365));\n",
    "sr1=sum(aa(:,:,1:4),3)+mean(sr1,2);\n",
    "\n",
    "To=zeros(size(sr1,1),1000,tt)+290;\n",
    "Ta=zeros(size(sr1,1),1,tt)+290;\n",
    "aa1=zeros(size(sr1,1),1,tt);\n",
    "aa2=zeros(size(sr1,1),1,tt);\n",
    "for m=1:tt\n",
    "\n",
    "    mm=mod(m,size(sr1,2));\n",
    "    if(mm==0);mm=size(sr1,2);end\n",
    "    DD=round(10*D(mm));\n",
    "    \n",
    "    aa1(:,1,m)=(1-alpha)*sr1(:,mm) ...\n",
    "        +epsilon*sigma*Ta(:,1,m).^4-sigma*To(:,1,m).^4;\n",
    "    aa2(:,1,m)=gamma*sr1(:,mm) ...\n",
    "        +epsilon*sigma*To(:,1,m).^4-epsilon*sigma*2*Ta(:,1,m).^4;\n",
    "    \n",
    "    if(m<10*365*4)\n",
    "        To(:,:,m+1)=To(:,:,m)+dt*aa1(:,1,m)/4e7;\n",
    "        Ta(:,1,m+1)=Ta(:,1,m)+dt*aa2(:,1,m)/(Cpa*ma);\n",
    "    else\n",
    "        To(:,1:DD,m+1)=0*To(:,1:DD,1)+ ...\n",
    "            (sum(To(:,1:DD,m),2)*Cpo*rhoodz+dt*aa1(:,1,m))/(DD*Cpo*rhoodz);\n",
    "        To(:,DD+1:end,m+1)=To(:,DD+1:end,m);\n",
    "        Ta(:,1,m+1)=Ta(:,1,m)+dt*aa2(:,1,m)/(Cpa*ma);\n",
    "    end\n",
    "    if(To(1,1,m+1)<0);break;end\n",
    "end\n",
    "m"
   ]
  },
  {
   "cell_type": "code",
   "execution_count": 24,
   "id": "e508f9e2-e683-4575-b238-f321e2da681e",
   "metadata": {},
   "outputs": [],
   "source": [
    "aa1=reshape(To(:,1,end-365*4+2:4:end),1,[]);\n",
    "aa1=aa1-mean(aa1,2);\n",
    "aa=mean(aa1.*exp(1i*2*pi*reshape([1:10],1,1,[]).*[.5:365]/365),2);\n",
    "aa=2*real(aa.*exp(-1i*2*pi*reshape([1:10],1,1,[]).*[1/48:1/24:365]/365));\n",
    "aa1=sum(aa(:,:,1:4),3);\n",
    "aa1(:,:,2:3)=aa(:,:,1:2);\n",
    "[~,imax]=max(aa1(:,:,1:2),[],2);imax=imax/24;\n",
    "[~,imin]=min(aa1(:,:,1:2),[],2);imin=imin/24;\n",
    "mm=imax;\n",
    "mm(:,2,:)=imin;\n",
    "imax(imax<imin)=imax(imax<imin)+365;\n",
    "mm(:,3,:)=365-2*(imax-imin);\n",
    "TT=aa1(:,12:24:end,:);\n",
    "\n",
    "DD=D(1:4:end);\n",
    "save(append(curr_path,'seasonal_60S.mat'),'TT','mm','DD');"
   ]
  },
  {
   "cell_type": "markdown",
   "id": "671a453c-cdeb-40ac-97ae-00767dc8199c",
   "metadata": {},
   "source": [
    "# Northward Air Mass Flux"
   ]
  },
  {
   "cell_type": "code",
   "execution_count": 3,
   "id": "abaef9de-fe37-4b9e-be38-f95e2e6f642b",
   "metadata": {},
   "outputs": [],
   "source": [
    "R=6370000;dp=10000;g=10;lat=lat2;\n",
    "\n",
    "ms_n=reshape(mean(mean(v_n,1),3).*cosd(lat')*2*pi*R,[],1); %kg/s\n",
    "ms_s=reshape(mean(mean(v_s,1),3).*cosd(lat')*2*pi*R,[],1);\n",
    "\n",
    "eq_n=reshape(mean(mean(v_n,1),3)/100000*g,[],1);\n",
    "eq_s=reshape(mean(mean(v_s,1),3)/100000*g,[],1);\n",
    "\n",
    "save(append(curr_path,'mass_flux.mat'),'ms_n','ms_s','eq_n','eq_s','lat');"
   ]
  },
  {
   "cell_type": "markdown",
   "id": "183dc981-873f-4378-a811-082f50e82cfe",
   "metadata": {},
   "source": [
    "# Eccentricity"
   ]
  },
  {
   "cell_type": "markdown",
   "id": "9c9520bd-3ac4-4d6b-b981-1e745c3282bc",
   "metadata": {},
   "source": [
    "## insolation omega=100&280"
   ]
  },
  {
   "cell_type": "code",
   "execution_count": 1,
   "id": "9fcdb235-55d5-413c-8d21-0dd7c3e57e21",
   "metadata": {},
   "outputs": [],
   "source": [
    "aa1=solar_m;\n",
    "lat=lat4;\n",
    "\n",
    "aa1=aa1-mean(aa1,2);\n",
    "aa=mean(aa1.*exp(1i*2*pi*reshape(1:10,1,1,1,[]) ...\n",
    "    .*reshape(.5:365,1,[])/365),2);\n",
    "aa2=2*real(aa.*exp(-1i*2*pi*reshape(1:10,1,1,1,[]).*reshape(.5:365,1,[])/365));\n",
    "sa_amp=squeeze(abs(aa(:,:,:,2)));\n",
    "\n",
    "save(append(curr_path,'sol_rt_280_000_100.mat'),'sa_amp','lat');"
   ]
  },
  {
   "cell_type": "markdown",
   "id": "55010a6c-f9f7-4867-b8ea-cf4bbdada835",
   "metadata": {},
   "source": [
    "## ERA5&NCEP delta_T"
   ]
  },
  {
   "cell_type": "code",
   "execution_count": 27,
   "id": "8eff19d2-118e-4558-a562-4d1ea09a54bc",
   "metadata": {},
   "outputs": [],
   "source": [
    "aa0=t2m; %1980-2020\n",
    "aa0=reshape(aa0,size(aa0,1),size(aa0,2),[]);\n",
    "tt=15;aa=0*aa0;\n",
    "for m=1:2*tt+1\n",
    "    aa(:,:,tt+1:end-tt)=aa(:,:,tt+1:end-tt)+aa0(:,:,m:end-(2*tt+1-m));\n",
    "end\n",
    "aa0=aa/(2*tt+1);\n",
    "aa0=reshape(aa0,size(aa0,1),size(aa0,2),365,[]);"
   ]
  },
  {
   "cell_type": "code",
   "execution_count": 28,
   "id": "c308a55a-02e8-4530-bad0-9f25da13e95f",
   "metadata": {},
   "outputs": [],
   "source": [
    "aa1=squeeze(mean(mean(aa0(:,:,:,2:end-1),1),4));\n",
    "aa=mean(aa1.*exp(1i*2*pi*reshape([1:10],1,1,[]).*[.5:365]/365),2);\n",
    "aa=2*real(aa.*exp(-1i*2*pi*reshape([1:10],1,1,[]).*[1/48:1/24:365]/365));\n",
    "aa1=sum(aa(:,:,1:4),3);\n",
    "[~,imax]=max(aa1,[],2);imax=imax/24;\n",
    "[~,imin]=min(aa1,[],2);imin=imin/24;\n",
    "imax(imax<imin)=imax(imax<imin)+365;\n",
    "deltaT_era=365-2*(imax-imin);\n",
    "lat=lat2;lat(65:117)=nan;\n",
    "\n",
    "save(append(curr_path,'deltaT_zonal_ERA.mat'),'deltaT_era','lat');"
   ]
  },
  {
   "cell_type": "code",
   "execution_count": 29,
   "id": "f3b212a1-88d4-46b0-8c22-484e592d9691",
   "metadata": {},
   "outputs": [],
   "source": [
    "aa0=air2m; %1980-2020\n",
    "aa0=reshape(aa0,size(aa0,1),size(aa0,2),[]);\n",
    "tt=15;aa=0*aa0;\n",
    "for m=1:2*tt+1\n",
    "    aa(:,:,tt+1:end-tt)=aa(:,:,tt+1:end-tt)+aa0(:,:,m:end-(2*tt+1-m));\n",
    "end\n",
    "aa0=aa/(2*tt+1);\n",
    "aa0=reshape(aa0,size(aa0,1),size(aa0,2),365,[]);"
   ]
  },
  {
   "cell_type": "code",
   "execution_count": 30,
   "id": "05f2f694-68f1-4e24-a15e-fcd3148e2494",
   "metadata": {},
   "outputs": [],
   "source": [
    "aa1=squeeze(mean(mean(aa0(:,:,:,2:end-1),1),4));\n",
    "aa=mean(aa1.*exp(1i*2*pi*reshape([1:10],1,1,[]).*[.5:365]/365),2);\n",
    "aa=2*real(aa.*exp(-1i*2*pi*reshape([1:10],1,1,[]).*[1/48:1/24:365]/365));\n",
    "aa1=sum(aa(:,:,1:4),3);\n",
    "[~,imax]=max(aa1,[],2);imax=imax/24;\n",
    "[~,imin]=min(aa1,[],2);imin=imin/24;\n",
    "imax(imax<imin)=imax(imax<imin)+365;\n",
    "deltaT_ncep=365-2*(imax-imin);\n",
    "lat=lat3;lat(35:60)=nan;\n",
    "\n",
    "save(append(curr_path,'deltaT_zonal_NCEP.mat'),'deltaT_ncep','lat');"
   ]
  },
  {
   "cell_type": "markdown",
   "id": "214e0b0d-a31e-4ac5-8704-ad4cfe802ce7",
   "metadata": {},
   "source": [
    "## simulations"
   ]
  },
  {
   "cell_type": "markdown",
   "id": "2706ec8e-1d79-435a-b978-5e456123c4bf",
   "metadata": {},
   "source": [
    "### ocean, MT=off, omega=100"
   ]
  },
  {
   "cell_type": "code",
   "execution_count": 31,
   "id": "9190e800-9197-4463-bcf5-1891bf6a55f1",
   "metadata": {
    "tags": []
   },
   "outputs": [
    {
     "data": {
      "text/html": [
       "<html><body><pre>m = 73000</pre></body></html>"
      ],
      "text/plain": [
       "m = 73000"
      ]
     },
     "execution_count": 31,
     "metadata": {},
     "output_type": "execute_result"
    }
   ],
   "source": [
    "sr=squeeze(solar_m(:,:,3));\n",
    "lat0=lat4;\n",
    "R=6370000;dy=2*pi/360*abs(lat0(1)-lat0(2))*R;\n",
    "\n",
    "sigma=5.67e-8; %W/(m2*K)\n",
    "Cpo=4e3;Cpa=1e3; %J/(kg*K)\n",
    "rhoodz=1e2; %kg/m2--dz=10cm\n",
    "ma=1e4; %kg/m2\n",
    "alpha=.1;gamma=.1;epsilon=.8;SL=0; %1\n",
    "c_exc=0; %m/s\n",
    "\n",
    "dt=6*60*60;tt=50*365*86400/dt;\n",
    "t2=[0:dt/86400:364.9]; %date in a year\n",
    "\n",
    "D=50*(1+.0*cosd(reshape(t2,1,[])*360/365-30));\n",
    "sr1=sr;\n",
    "aa=mean(sr1.*exp(1i*2*pi*reshape([1:10],1,1,[]).*[1:365]/365),2);\n",
    "aa=2*real(aa.*exp(-1i*2*pi*reshape([1:10],1,1,[]).*t2/365));\n",
    "sr1=sum(aa(:,:,1:4),3)+mean(sr1,2);\n",
    "\n",
    "C_EXC=zeros(size(sr1,1),size(sr1,1));\n",
    "ll=(lat0(1:end-1)+lat0(2:end))/2;\n",
    "for m=2:size(sr1,1)-1\n",
    "    C_EXC(m,m-1)=-cosd(ll(m-1));\n",
    "    C_EXC(m,m)=cosd(ll(m-1))+cosd(ll(m));\n",
    "    C_EXC(m,m+1)=-cosd(ll(m));\n",
    "end\n",
    "C_EXC(1,1)=cosd(ll(1));C_EXC(1,2)=-cosd(ll(1));\n",
    "C_EXC(end,end-1)=-cosd(ll(end));C_EXC(end,end)=cosd(ll(end));\n",
    "ll=cosd(lat0);ll([1,end])=dy/8/R;\n",
    "C_EXC=c_exc*dt/dy*C_EXC./ll;\n",
    "C_EXC=inv(eye(size(sr1,1))+C_EXC);\n",
    "\n",
    "To=zeros(size(sr1,1),1,tt)+290;\n",
    "Ta=zeros(size(sr1,1),1,tt)+290;\n",
    "aa1=zeros(size(sr1,1),tt);aa2=zeros(size(sr1,1),tt);\n",
    "for m=1:tt\n",
    "\n",
    "    mm=mod(m,size(sr1,2));\n",
    "    if(mm==0);mm=size(sr1,2);end\n",
    "    DD=round(10*D(mm));\n",
    "    \n",
    "    aa1(:,m)=(1-alpha)*(1-gamma)*sr1(:,mm) ...\n",
    "        +epsilon*sigma*Ta(:,1,m).^4-sigma*To(:,1,m).^4 ...\n",
    "        -SL*(To(:,1,m)-Ta(:,1,m));\n",
    "    aa2(:,m)=gamma*(1+alpha-alpha*gamma)*sr1(:,mm) ...\n",
    "        +epsilon*sigma*To(:,1,m).^4-epsilon*sigma*2*Ta(:,1,m).^4 ...\n",
    "        +SL*(To(:,1,m)-Ta(:,1,m));\n",
    "    if(m<5.4*365*86400/dt)\n",
    "        To(:,1,m+1)=To(:,1,m)+dt*aa1(:,m)/1e7;\n",
    "    else\n",
    "        To(:,1,m+1)=To(:,1,m)+dt*aa1(:,m)/(DD*Cpo*rhoodz);\n",
    "    end\n",
    "    Ta(:,1,m+1)=Ta(:,1,m)+dt*aa2(:,m)/(Cpa*ma);\n",
    "    Ta(:,1,m+1)=C_EXC*Ta(:,1,m+1);\n",
    "    \n",
    "    if(To(1,1,m+1)<0);break;end\n",
    "end\n",
    "m"
   ]
  },
  {
   "cell_type": "code",
   "execution_count": 32,
   "id": "dceaf476-d857-4662-84fc-7613f49f65f0",
   "metadata": {},
   "outputs": [],
   "source": [
    "aa1=squeeze(To(:,1,end-4*365+1:1:end));\n",
    "aa=mean(aa1.*exp(1i*2*pi*reshape(1:10,1,1,1,[]) ...\n",
    "    .*reshape(.125:.25:365,1,[])/365),2);\n",
    "aa=2*real(aa.*exp(-1i*2*pi*reshape(1:10,1,1,1,[]).*reshape(1/48:1/24:365,1,[])/365));\n",
    "aa1=sum(aa(:,:,:,1:4),4);\n",
    "[~,imax]=max(aa1,[],2);imax=imax/24;\n",
    "[~,imin]=min(aa1,[],2);imin=imin/24;\n",
    "imax(imax<imin)=imax(imax<imin)+365;\n",
    "deltaT_50_off_100=365-2*(imax-imin);\n",
    "lat=lat0;lat(35:62)=nan;\n",
    "\n",
    "save(append(curr_path,'deltaT_50_off_100.mat'),'deltaT_50_off_100','lat');"
   ]
  },
  {
   "cell_type": "markdown",
   "id": "667800a2-a974-4926-a7e3-0a5d2bec3ee5",
   "metadata": {},
   "source": [
    "### ocean, MT=off, e=0"
   ]
  },
  {
   "cell_type": "code",
   "execution_count": 33,
   "id": "f4cbd843-7114-4f78-82fd-52a7b78c36e6",
   "metadata": {
    "tags": []
   },
   "outputs": [
    {
     "data": {
      "text/html": [
       "<html><body><pre>m = 73000</pre></body></html>"
      ],
      "text/plain": [
       "m = 73000"
      ]
     },
     "execution_count": 33,
     "metadata": {},
     "output_type": "execute_result"
    }
   ],
   "source": [
    "sr=squeeze(solar_m(:,:,2));\n",
    "lat0=lat4;\n",
    "R=6370000;dy=2*pi/360*abs(lat0(1)-lat0(2))*R;\n",
    "\n",
    "sigma=5.67e-8; %W/(m2*K)\n",
    "Cpo=4e3;Cpa=1e3; %J/(kg*K)\n",
    "rhoodz=1e2; %kg/m2--dz=10cm\n",
    "ma=1e4; %kg/m2\n",
    "alpha=.1;gamma=.1;epsilon=.8;SL=0; %1\n",
    "c_exc=0; %m/s\n",
    "\n",
    "dt=6*60*60;tt=50*365*86400/dt;\n",
    "t2=[0:dt/86400:364.9]; %date in a year\n",
    "\n",
    "D=50*(1+.0*cosd(reshape(t2,1,[])*360/365-30));\n",
    "sr1=sr;\n",
    "aa=mean(sr1.*exp(1i*2*pi*reshape([1:10],1,1,[]).*[1:365]/365),2);\n",
    "aa=2*real(aa.*exp(-1i*2*pi*reshape([1:10],1,1,[]).*t2/365));\n",
    "sr1=sum(aa(:,:,1:4),3)+mean(sr1,2);\n",
    "\n",
    "C_EXC=zeros(size(sr1,1),size(sr1,1));\n",
    "ll=(lat0(1:end-1)+lat0(2:end))/2;\n",
    "for m=2:size(sr1,1)-1\n",
    "    C_EXC(m,m-1)=-cosd(ll(m-1));\n",
    "    C_EXC(m,m)=cosd(ll(m-1))+cosd(ll(m));\n",
    "    C_EXC(m,m+1)=-cosd(ll(m));\n",
    "end\n",
    "C_EXC(1,1)=cosd(ll(1));C_EXC(1,2)=-cosd(ll(1));\n",
    "C_EXC(end,end-1)=-cosd(ll(end));C_EXC(end,end)=cosd(ll(end));\n",
    "ll=cosd(lat0);ll([1,end])=dy/8/R;\n",
    "C_EXC=c_exc*dt/dy*C_EXC./ll;\n",
    "C_EXC=inv(eye(size(sr1,1))+C_EXC);\n",
    "\n",
    "To=zeros(size(sr1,1),1,tt)+290;\n",
    "Ta=zeros(size(sr1,1),1,tt)+290;\n",
    "aa1=zeros(size(sr1,1),tt);aa2=zeros(size(sr1,1),tt);\n",
    "for m=1:tt\n",
    "\n",
    "    mm=mod(m,size(sr1,2));\n",
    "    if(mm==0);mm=size(sr1,2);end\n",
    "    DD=round(10*D(mm));\n",
    "    \n",
    "    aa1(:,m)=(1-alpha)*(1-gamma)*sr1(:,mm) ...\n",
    "        +epsilon*sigma*Ta(:,1,m).^4-sigma*To(:,1,m).^4 ...\n",
    "        -SL*(To(:,1,m)-Ta(:,1,m));\n",
    "    aa2(:,m)=gamma*(1+alpha-alpha*gamma)*sr1(:,mm) ...\n",
    "        +epsilon*sigma*To(:,1,m).^4-epsilon*sigma*2*Ta(:,1,m).^4 ...\n",
    "        +SL*(To(:,1,m)-Ta(:,1,m));\n",
    "    if(m<5.4*365*86400/dt)\n",
    "        To(:,1,m+1)=To(:,1,m)+dt*aa1(:,m)/1e7;\n",
    "    else\n",
    "        To(:,1,m+1)=To(:,1,m)+dt*aa1(:,m)/(DD*Cpo*rhoodz);\n",
    "    end\n",
    "    Ta(:,1,m+1)=Ta(:,1,m)+dt*aa2(:,m)/(Cpa*ma);\n",
    "    Ta(:,1,m+1)=C_EXC*Ta(:,1,m+1);\n",
    "    \n",
    "    if(To(1,1,m+1)<0);break;end\n",
    "end\n",
    "m"
   ]
  },
  {
   "cell_type": "code",
   "execution_count": 34,
   "id": "12cfa3a0-b438-4b38-ac0d-451c46891e5e",
   "metadata": {},
   "outputs": [],
   "source": [
    "aa1=squeeze(To(:,1,end-4*365+1:1:end));\n",
    "aa=mean(aa1.*exp(1i*2*pi*reshape(1:10,1,1,1,[]) ...\n",
    "    .*reshape(.125:.25:365,1,[])/365),2);\n",
    "aa=2*real(aa.*exp(-1i*2*pi*reshape(1:10,1,1,1,[]).*reshape(1/48:1/24:365,1,[])/365));\n",
    "aa1=sum(aa(:,:,:,1:4),4);\n",
    "[~,imax]=max(aa1,[],2);imax=imax/24;\n",
    "[~,imin]=min(aa1,[],2);imin=imin/24;\n",
    "imax(imax<imin)=imax(imax<imin)+365;\n",
    "deltaT_50_off_000=365-2*(imax-imin);\n",
    "lat=lat0;lat(35:62)=nan;\n",
    "\n",
    "save(append(curr_path,'deltaT_50_off_000.mat'),'deltaT_50_off_000','lat');"
   ]
  },
  {
   "cell_type": "markdown",
   "id": "7ada21ef-2221-4097-9397-c7cbe8740f87",
   "metadata": {},
   "source": [
    "### ocean, MT=off, omega=280"
   ]
  },
  {
   "cell_type": "code",
   "execution_count": 35,
   "id": "a97f2023-aa56-45b7-8e1b-b303b3272fd1",
   "metadata": {
    "tags": []
   },
   "outputs": [
    {
     "data": {
      "text/html": [
       "<html><body><pre>m = 73000</pre></body></html>"
      ],
      "text/plain": [
       "m = 73000"
      ]
     },
     "execution_count": 35,
     "metadata": {},
     "output_type": "execute_result"
    }
   ],
   "source": [
    "sr=squeeze(solar_m(:,:,1));\n",
    "lat0=lat4;\n",
    "R=6370000;dy=2*pi/360*abs(lat0(1)-lat0(2))*R;\n",
    "\n",
    "sigma=5.67e-8; %W/(m2*K)\n",
    "Cpo=4e3;Cpa=1e3; %J/(kg*K)\n",
    "rhoodz=1e2; %kg/m2--dz=10cm\n",
    "ma=1e4; %kg/m2\n",
    "alpha=.1;gamma=.1;epsilon=.8;SL=0; %1\n",
    "c_exc=0; %m/s\n",
    "\n",
    "dt=6*60*60;tt=50*365*86400/dt;\n",
    "t2=[0:dt/86400:364.9]; %date in a year\n",
    "\n",
    "D=50*(1+.0*cosd(reshape(t2,1,[])*360/365-30));\n",
    "sr1=sr;\n",
    "aa=mean(sr1.*exp(1i*2*pi*reshape([1:10],1,1,[]).*[1:365]/365),2);\n",
    "aa=2*real(aa.*exp(-1i*2*pi*reshape([1:10],1,1,[]).*t2/365));\n",
    "sr1=sum(aa(:,:,1:4),3)+mean(sr1,2);\n",
    "\n",
    "C_EXC=zeros(size(sr1,1),size(sr1,1));\n",
    "ll=(lat0(1:end-1)+lat0(2:end))/2;\n",
    "for m=2:size(sr1,1)-1\n",
    "    C_EXC(m,m-1)=-cosd(ll(m-1));\n",
    "    C_EXC(m,m)=cosd(ll(m-1))+cosd(ll(m));\n",
    "    C_EXC(m,m+1)=-cosd(ll(m));\n",
    "end\n",
    "C_EXC(1,1)=cosd(ll(1));C_EXC(1,2)=-cosd(ll(1));\n",
    "C_EXC(end,end-1)=-cosd(ll(end));C_EXC(end,end)=cosd(ll(end));\n",
    "ll=cosd(lat0);ll([1,end])=dy/8/R;\n",
    "C_EXC=c_exc*dt/dy*C_EXC./ll;\n",
    "C_EXC=inv(eye(size(sr1,1))+C_EXC);\n",
    "\n",
    "To=zeros(size(sr1,1),1,tt)+290;\n",
    "Ta=zeros(size(sr1,1),1,tt)+290;\n",
    "aa1=zeros(size(sr1,1),tt);aa2=zeros(size(sr1,1),tt);\n",
    "for m=1:tt\n",
    "\n",
    "    mm=mod(m,size(sr1,2));\n",
    "    if(mm==0);mm=size(sr1,2);end\n",
    "    DD=round(10*D(mm));\n",
    "    \n",
    "    aa1(:,m)=(1-alpha)*(1-gamma)*sr1(:,mm) ...\n",
    "        +epsilon*sigma*Ta(:,1,m).^4-sigma*To(:,1,m).^4 ...\n",
    "        -SL*(To(:,1,m)-Ta(:,1,m));\n",
    "    aa2(:,m)=gamma*(1+alpha-alpha*gamma)*sr1(:,mm) ...\n",
    "        +epsilon*sigma*To(:,1,m).^4-epsilon*sigma*2*Ta(:,1,m).^4 ...\n",
    "        +SL*(To(:,1,m)-Ta(:,1,m));\n",
    "    if(m<5.4*365*86400/dt)\n",
    "        To(:,1,m+1)=To(:,1,m)+dt*aa1(:,m)/1e7;\n",
    "    else\n",
    "        To(:,1,m+1)=To(:,1,m)+dt*aa1(:,m)/(DD*Cpo*rhoodz);\n",
    "    end\n",
    "    Ta(:,1,m+1)=Ta(:,1,m)+dt*aa2(:,m)/(Cpa*ma);\n",
    "    Ta(:,1,m+1)=C_EXC*Ta(:,1,m+1);\n",
    "    \n",
    "    if(To(1,1,m+1)<0);break;end\n",
    "end\n",
    "m"
   ]
  },
  {
   "cell_type": "code",
   "execution_count": 36,
   "id": "426aba89-9cd4-4795-b6fd-377b0461ef3e",
   "metadata": {},
   "outputs": [],
   "source": [
    "aa1=squeeze(To(:,1,end-4*365+1:1:end));\n",
    "aa=mean(aa1.*exp(1i*2*pi*reshape(1:10,1,1,1,[]) ...\n",
    "    .*reshape(.125:.25:365,1,[])/365),2);\n",
    "aa=2*real(aa.*exp(-1i*2*pi*reshape(1:10,1,1,1,[]).*reshape(1/48:1/24:365,1,[])/365));\n",
    "aa1=sum(aa(:,:,:,1:4),4);\n",
    "[~,imax]=max(aa1,[],2);imax=imax/24;\n",
    "[~,imin]=min(aa1,[],2);imin=imin/24;\n",
    "imax(imax<imin)=imax(imax<imin)+365;\n",
    "deltaT_50_off_280=365-2*(imax-imin);\n",
    "lat=lat0;lat(35:62)=nan;\n",
    "\n",
    "save(append(curr_path,'deltaT_50_off_280.mat'),'deltaT_50_off_280','lat');"
   ]
  },
  {
   "cell_type": "markdown",
   "id": "524d0460-0da0-4441-82e1-8a6991fc0f64",
   "metadata": {},
   "source": [
    "### land=2m, MT=off, omega=280"
   ]
  },
  {
   "cell_type": "code",
   "execution_count": 37,
   "id": "88117e81-50f9-465d-9df3-c190db951e0f",
   "metadata": {
    "tags": []
   },
   "outputs": [
    {
     "data": {
      "text/html": [
       "<html><body><pre>m = 73000</pre></body></html>"
      ],
      "text/plain": [
       "m = 73000"
      ]
     },
     "execution_count": 37,
     "metadata": {},
     "output_type": "execute_result"
    }
   ],
   "source": [
    "sr=squeeze(solar_m(:,:,1));\n",
    "lat0=lat4;\n",
    "R=6370000;dy=2*pi/360*abs(lat0(1)-lat0(2))*R;\n",
    "\n",
    "sigma=5.67e-8; %W/(m2*K)\n",
    "Cpo=4e3;Cpa=1e3; %J/(kg*K)\n",
    "rhoodz=1e2; %kg/m2--dz=10cm\n",
    "ma=1e4; %kg/m2\n",
    "alpha=.1;gamma=.1;epsilon=.8;SL=0; %1\n",
    "c_exc=0; %m/s\n",
    "\n",
    "dt=6*60*60;tt=50*365*86400/dt;\n",
    "t2=[0:dt/86400:364.9]; %date in a year\n",
    "\n",
    "D=2*(1+.0*cosd(reshape(t2,1,[])*360/365-30));\n",
    "sr1=sr;\n",
    "aa=mean(sr1.*exp(1i*2*pi*reshape([1:10],1,1,[]).*[1:365]/365),2);\n",
    "aa=2*real(aa.*exp(-1i*2*pi*reshape([1:10],1,1,[]).*t2/365));\n",
    "sr1=sum(aa(:,:,1:4),3)+mean(sr1,2);\n",
    "\n",
    "C_EXC=zeros(size(sr1,1),size(sr1,1));\n",
    "ll=(lat0(1:end-1)+lat0(2:end))/2;\n",
    "for m=2:size(sr1,1)-1\n",
    "    C_EXC(m,m-1)=-cosd(ll(m-1));\n",
    "    C_EXC(m,m)=cosd(ll(m-1))+cosd(ll(m));\n",
    "    C_EXC(m,m+1)=-cosd(ll(m));\n",
    "end\n",
    "C_EXC(1,1)=cosd(ll(1));C_EXC(1,2)=-cosd(ll(1));\n",
    "C_EXC(end,end-1)=-cosd(ll(end));C_EXC(end,end)=cosd(ll(end));\n",
    "ll=cosd(lat0);ll([1,end])=dy/8/R;\n",
    "C_EXC=c_exc*dt/dy*C_EXC./ll;\n",
    "C_EXC=inv(eye(size(sr1,1))+C_EXC);\n",
    "\n",
    "To=zeros(size(sr1,1),1,tt)+290;\n",
    "Ta=zeros(size(sr1,1),1,tt)+290;\n",
    "aa1=zeros(size(sr1,1),tt);aa2=zeros(size(sr1,1),tt);\n",
    "for m=1:tt\n",
    "\n",
    "    mm=mod(m,size(sr1,2));\n",
    "    if(mm==0);mm=size(sr1,2);end\n",
    "    DD=round(10*D(mm));\n",
    "    \n",
    "    aa1(:,m)=(1-alpha)*(1-gamma)*sr1(:,mm) ...\n",
    "        +epsilon*sigma*Ta(:,1,m).^4-sigma*To(:,1,m).^4 ...\n",
    "        -SL*(To(:,1,m)-Ta(:,1,m));\n",
    "    aa2(:,m)=gamma*(1+alpha-alpha*gamma)*sr1(:,mm) ...\n",
    "        +epsilon*sigma*To(:,1,m).^4-epsilon*sigma*2*Ta(:,1,m).^4 ...\n",
    "        +SL*(To(:,1,m)-Ta(:,1,m));\n",
    "    if(m<5.4*365*86400/dt)\n",
    "        To(:,1,m+1)=To(:,1,m)+dt*aa1(:,m)/1e7;\n",
    "    else\n",
    "        To(:,1,m+1)=To(:,1,m)+dt*aa1(:,m)/(DD*Cpo*rhoodz);\n",
    "    end\n",
    "    Ta(:,1,m+1)=Ta(:,1,m)+dt*aa2(:,m)/(Cpa*ma);\n",
    "    Ta(:,1,m+1)=C_EXC*Ta(:,1,m+1);\n",
    "    \n",
    "    if(To(1,1,m+1)<0);break;end\n",
    "end\n",
    "m"
   ]
  },
  {
   "cell_type": "code",
   "execution_count": 38,
   "id": "2a251f65-1860-418f-b434-645443b72891",
   "metadata": {},
   "outputs": [],
   "source": [
    "aa1=squeeze(To(:,1,end-4*365+1:1:end));\n",
    "aa=mean(aa1.*exp(1i*2*pi*reshape(1:10,1,1,1,[]) ...\n",
    "    .*reshape(.125:.25:365,1,[])/365),2);\n",
    "aa=2*real(aa.*exp(-1i*2*pi*reshape(1:10,1,1,1,[]).*reshape(1/48:1/24:365,1,[])/365));\n",
    "aa1=sum(aa(:,:,:,1:4),4);\n",
    "[~,imax]=max(aa1,[],2);imax=imax/24;\n",
    "[~,imin]=min(aa1,[],2);imin=imin/24;\n",
    "imax(imax<imin)=imax(imax<imin)+365;\n",
    "deltaT_2_off_280=365-2*(imax-imin);\n",
    "lat=lat0;lat(35:62)=nan;\n",
    "\n",
    "save(append(curr_path,'deltaT_2_off_280.mat'),'deltaT_2_off_280','lat');"
   ]
  },
  {
   "cell_type": "markdown",
   "id": "bbe74174-c23e-479d-b948-8bf7ec2ad128",
   "metadata": {},
   "source": [
    "### land=2m, MT=10m/s, omega=280"
   ]
  },
  {
   "cell_type": "code",
   "execution_count": 39,
   "id": "b9358818-e59f-4f6a-baa5-693c65cdec87",
   "metadata": {
    "tags": []
   },
   "outputs": [
    {
     "data": {
      "text/html": [
       "<html><body><pre>m = 73000</pre></body></html>"
      ],
      "text/plain": [
       "m = 73000"
      ]
     },
     "execution_count": 39,
     "metadata": {},
     "output_type": "execute_result"
    }
   ],
   "source": [
    "sr=squeeze(solar_m(:,:,1));\n",
    "lat0=lat4;\n",
    "R=6370000;dy=2*pi/360*abs(lat0(1)-lat0(2))*R;\n",
    "\n",
    "sigma=5.67e-8; %W/(m2*K)\n",
    "Cpo=4e3;Cpa=1e3; %J/(kg*K)\n",
    "rhoodz=1e2; %kg/m2--dz=10cm\n",
    "ma=1e4; %kg/m2\n",
    "alpha=.1;gamma=.1;epsilon=.8;SL=0; %1\n",
    "c_exc=10; %m/s\n",
    "\n",
    "dt=6*60*60;tt=50*365*86400/dt;\n",
    "t2=[0:dt/86400:364.9]; %date in a year\n",
    "\n",
    "D=2*(1+.0*cosd(reshape(t2,1,[])*360/365-30));\n",
    "sr1=sr;\n",
    "aa=mean(sr1.*exp(1i*2*pi*reshape([1:10],1,1,[]).*[1:365]/365),2);\n",
    "aa=2*real(aa.*exp(-1i*2*pi*reshape([1:10],1,1,[]).*t2/365));\n",
    "sr1=sum(aa(:,:,1:4),3)+mean(sr1,2);\n",
    "\n",
    "C_EXC=zeros(size(sr1,1),size(sr1,1));\n",
    "ll=(lat0(1:end-1)+lat0(2:end))/2;\n",
    "for m=2:size(sr1,1)-1\n",
    "    C_EXC(m,m-1)=-cosd(ll(m-1));\n",
    "    C_EXC(m,m)=cosd(ll(m-1))+cosd(ll(m));\n",
    "    C_EXC(m,m+1)=-cosd(ll(m));\n",
    "end\n",
    "C_EXC(1,1)=cosd(ll(1));C_EXC(1,2)=-cosd(ll(1));\n",
    "C_EXC(end,end-1)=-cosd(ll(end));C_EXC(end,end)=cosd(ll(end));\n",
    "ll=cosd(lat0);ll([1,end])=dy/8/R;\n",
    "C_EXC=c_exc*dt/dy*C_EXC./ll;\n",
    "C_EXC=inv(eye(size(sr1,1))+C_EXC);\n",
    "\n",
    "To=zeros(size(sr1,1),1,tt)+290;\n",
    "Ta=zeros(size(sr1,1),1,tt)+290;\n",
    "aa1=zeros(size(sr1,1),tt);aa2=zeros(size(sr1,1),tt);\n",
    "for m=1:tt\n",
    "\n",
    "    mm=mod(m,size(sr1,2));\n",
    "    if(mm==0);mm=size(sr1,2);end\n",
    "    DD=round(10*D(mm));\n",
    "    \n",
    "    aa1(:,m)=(1-alpha)*(1-gamma)*sr1(:,mm) ...\n",
    "        +epsilon*sigma*Ta(:,1,m).^4-sigma*To(:,1,m).^4 ...\n",
    "        -SL*(To(:,1,m)-Ta(:,1,m));\n",
    "    aa2(:,m)=gamma*(1+alpha-alpha*gamma)*sr1(:,mm) ...\n",
    "        +epsilon*sigma*To(:,1,m).^4-epsilon*sigma*2*Ta(:,1,m).^4 ...\n",
    "        +SL*(To(:,1,m)-Ta(:,1,m));\n",
    "    if(m<5.4*365*86400/dt)\n",
    "        To(:,1,m+1)=To(:,1,m)+dt*aa1(:,m)/1e7;\n",
    "    else\n",
    "        To(:,1,m+1)=To(:,1,m)+dt*aa1(:,m)/(DD*Cpo*rhoodz);\n",
    "    end\n",
    "    Ta(:,1,m+1)=Ta(:,1,m)+dt*aa2(:,m)/(Cpa*ma);\n",
    "    Ta(:,1,m+1)=C_EXC*Ta(:,1,m+1);\n",
    "    \n",
    "    if(To(1,1,m+1)<0);break;end\n",
    "end\n",
    "m"
   ]
  },
  {
   "cell_type": "code",
   "execution_count": 40,
   "id": "f636cfa8-e02e-420f-9d50-ebe9dac82ee8",
   "metadata": {},
   "outputs": [],
   "source": [
    "aa1=squeeze(To(:,1,end-4*365+1:1:end));\n",
    "aa=mean(aa1.*exp(1i*2*pi*reshape(1:10,1,1,1,[]) ...\n",
    "    .*reshape(.125:.25:365,1,[])/365),2);\n",
    "aa=2*real(aa.*exp(-1i*2*pi*reshape(1:10,1,1,1,[]).*reshape(1/48:1/24:365,1,[])/365));\n",
    "aa1=sum(aa(:,:,:,1:4),4);\n",
    "[~,imax]=max(aa1,[],2);imax=imax/24;\n",
    "[~,imin]=min(aa1,[],2);imin=imin/24;\n",
    "imax(imax<imin)=imax(imax<imin)+365;\n",
    "deltaT_2_10_280=365-2*(imax-imin);\n",
    "lat=lat0;lat(35:62)=nan;\n",
    "\n",
    "save(append(curr_path,'deltaT_2_10_280.mat'),'deltaT_2_10_280','lat');"
   ]
  },
  {
   "cell_type": "markdown",
   "id": "febf8eb4-daab-4235-9178-cb7572ebce75",
   "metadata": {},
   "source": [
    "### varies D&MT"
   ]
  },
  {
   "cell_type": "code",
   "execution_count": 8,
   "id": "35d09177-0d49-4130-b084-ee1a7a8e4476",
   "metadata": {},
   "outputs": [
    {
     "name": "stdout",
     "output_type": "stream",
     "text": [
      "Starting parallel pool (parpool) using the 'Processes' profile ...\n",
      "Connected to parallel pool with 4 workers.\n",
      "\n",
      "ans = \n",
      "\n",
      " ProcessPool with properties: \n",
      "\n",
      "            Connected: true\n",
      "           NumWorkers: 4\n",
      "                 Busy: false\n",
      "              Cluster: Processes (Local Cluster)\n",
      "        AttachedFiles: {}\n",
      "    AutoAddClientPath: true\n",
      "            FileStore: [1x1 parallel.FileStore]\n",
      "           ValueStore: [1x1 parallel.ValueStore]\n",
      "          IdleTimeout: 30 minutes (30 minutes remaining)\n",
      "          SpmdEnabled: true\n",
      "\n"
     ]
    }
   ],
   "source": [
    "parpool(4)"
   ]
  },
  {
   "cell_type": "code",
   "execution_count": 6,
   "id": "e8d9bf4a-b863-49f9-8ecc-57e7c2f33912",
   "metadata": {
    "tags": []
   },
   "outputs": [
    {
     "name": "stderr",
     "output_type": "stream",
     "text": [
      "Error connecting to MATLAB. Check the status of MATLAB by clicking the \"Open MATLAB\" button. Retry after ensuring MATLAB is running successfully"
     ]
    }
   ],
   "source": [
    "sr=squeeze(solar_m(:,:,1));\n",
    "lat0=lat4;\n",
    "R=6370000;dy=2*pi/360*abs(lat0(1)-lat0(2))*R;\n",
    "\n",
    "beta=[0:.1:10]';\n",
    "depth=[1:.1:10,11:1:20,30,40,50]';\n",
    "deltaT_vary=zeros(size(beta,1),size(depth,1),size(sr,1));\n",
    "\n",
    "parfor mdepth=1:size(depth,1)\n",
    "%for mdepth=1:1%size(depth,1)\n",
    "\n",
    "deltaT=zeros(size(beta,1),1,size(sr,1));\n",
    "for mbeta=1:size(beta,1)\n",
    "\n",
    "sigma=5.67e-8; %W/(m2*K)\n",
    "Cpo=4e3;Cpa=1e3; %J/(kg*K)\n",
    "rhoodz=1e2; %kg/m2--dz=10cm\n",
    "ma=1e4; %kg/m2\n",
    "alpha=.1;gamma=.1;epsilon=.8;SL=0; %1\n",
    "c_exc=beta(mbeta); %m/s\n",
    "\n",
    "dt=1*60*60;tt=50*365*86400/dt;\n",
    "t2=[0:dt/86400:365-.001]; %date in a year\n",
    "\n",
    "D=depth(mdepth);DD=round(10*D);\n",
    "sr1=sr;\n",
    "aa=mean(sr1.*exp(1i*2*pi*reshape([1:10],1,1,[]).*[.5:365]/365),2);\n",
    "aa=2*real(aa.*exp(-1i*2*pi*reshape([1:10],1,1,[]).*t2/365));\n",
    "sr1=sum(aa(:,:,1:4),3)+mean(sr1,2);\n",
    "\n",
    "C_EXC=zeros(size(sr1,1),size(sr1,1));\n",
    "ll=(lat0(1:end-1)+lat0(2:end))/2;\n",
    "for m=2:size(sr1,1)-1\n",
    "    C_EXC(m,m-1)=-cosd(ll(m-1));\n",
    "    C_EXC(m,m)=cosd(ll(m-1))+cosd(ll(m));\n",
    "    C_EXC(m,m+1)=-cosd(ll(m));\n",
    "end\n",
    "C_EXC(1,1)=cosd(ll(1));C_EXC(1,2)=-cosd(ll(1));\n",
    "C_EXC(end,end-1)=-cosd(ll(end));C_EXC(end,end)=cosd(ll(end));\n",
    "ll=cosd(lat0);ll([1,end])=dy/8/R;\n",
    "C_EXC=c_exc*dt/dy*C_EXC./ll;\n",
    "C_EXC=inv(eye(size(sr1,1))+C_EXC);\n",
    "\n",
    "To=zeros(size(sr1,1),1,tt)+290;\n",
    "Ta=zeros(size(sr1,1),1,tt)+290;\n",
    "aa1=zeros(size(sr1,1),tt);aa2=zeros(size(sr1,1),tt);\n",
    "for m=1:tt\n",
    "\n",
    "    mm=mod(m,size(sr1,2));\n",
    "    if(mm==0);mm=size(sr1,2);end\n",
    "    \n",
    "    aa1(:,m)=(1-alpha)*(1-gamma)*sr1(:,mm) ...\n",
    "        +epsilon*sigma*Ta(:,1,m).^4-sigma*To(:,1,m).^4 ...\n",
    "        -SL*(To(:,1,m)-Ta(:,1,m));\n",
    "    aa2(:,m)=gamma*(1+alpha-alpha*gamma)*sr1(:,mm) ...\n",
    "        +epsilon*sigma*To(:,1,m).^4-epsilon*sigma*2*Ta(:,1,m).^4 ...\n",
    "        +SL*(To(:,1,m)-Ta(:,1,m));\n",
    "    if(m<5.5*365*86400/dt)\n",
    "        To(:,1,m+1)=To(:,1,m)+dt*aa1(:,m)/1e7;\n",
    "    else\n",
    "        To(:,1,m+1)=To(:,1,m)+dt*aa1(:,m)/(DD*Cpo*rhoodz);\n",
    "    end\n",
    "    Ta(:,1,m+1)=Ta(:,1,m)+dt*aa2(:,m)/(Cpa*ma);\n",
    "    Ta(:,1,m+1)=C_EXC*Ta(:,1,m+1);\n",
    "    \n",
    "    if(To(1,1,m+1)<0);break;end\n",
    "end\n",
    "\n",
    "aa1=squeeze(To(:,1,end-365*86400/dt+1:1:end));\n",
    "aa=mean(aa1.*exp(1i*2*pi*reshape(1:10,1,1,1,[]) ...\n",
    "    .*reshape(1/48:1/24:365,1,[])/365),2);\n",
    "aa=2*real(aa.*exp(-1i*2*pi*reshape(1:10,1,1,1,[]).*reshape(1/48:1/24:365,1,[])/365));\n",
    "aa1=sum(aa(:,:,:,1:4),4);\n",
    "[~,imax]=max(aa1,[],2);imax=imax/24;\n",
    "[~,imin]=min(aa1,[],2);imin=imin/24;\n",
    "imax(imax<imin)=imax(imax<imin)+365;\n",
    "deltaT(mbeta,1,:)=365-2*(imax-imin);\n",
    "\n",
    "end\n",
    "\n",
    "deltaT_vary(:,mdepth,:)=deltaT;\n",
    "mdepth\n",
    "end"
   ]
  },
  {
   "cell_type": "code",
   "execution_count": 52,
   "id": "e39b3b9d-064e-43f5-bfe7-61724dfd2eb0",
   "metadata": {},
   "outputs": [
    {
     "name": "stderr",
     "output_type": "stream",
     "text": [
      "Error connecting to MATLAB. Check the status of MATLAB by clicking the \"Open MATLAB\" button. Retry after ensuring MATLAB is running successfully"
     ]
    }
   ],
   "source": [
    "beta0=(beta([1,1:end])+beta([1:end,end]))/2;\n",
    "beta0(1)=2*beta(1)-beta(2);\n",
    "beta0(end)=2*beta(end)-beta(end-1);\n",
    "depth0=(depth([1,1:end])+depth([1:end,end]))/2;\n",
    "depth0(1)=2*depth(1)-depth(2);\n",
    "depth0(end)=2*depth(end)-depth(end-1);\n",
    "\n",
    "save(append(curr_path,'deltaT_vary.mat'),'deltaT_vary','beta0','depth0');"
   ]
  },
  {
   "cell_type": "code",
   "execution_count": 1,
   "id": "096222d2-6636-4c40-acf5-28c55cc98ffc",
   "metadata": {},
   "outputs": [],
   "source": [
    "delete(gcp('nocreate'));"
   ]
  },
  {
   "cell_type": "markdown",
   "id": "1b7fdc6a-2431-46ff-bc29-9ff870ea456d",
   "metadata": {},
   "source": [
    "# Global Pattern"
   ]
  },
  {
   "cell_type": "markdown",
   "id": "3527fcc5-f8c0-4719-a53f-48db3453af61",
   "metadata": {},
   "source": [
    "## ERA5 delta_T 5x5"
   ]
  },
  {
   "cell_type": "code",
   "execution_count": 41,
   "id": "536709e9-e60d-48d3-afe5-667f02e2e479",
   "metadata": {},
   "outputs": [],
   "source": [
    "aa0=t2m;\n",
    "aa0=reshape(aa0,size(aa0,1),size(aa0,2),[]);\n",
    "tt=15;aa=0*aa0;\n",
    "for m=1:2*tt+1\n",
    "    aa(:,:,tt+1:end-tt)=aa(:,:,tt+1:end-tt)+aa0(:,:,m:end-(2*tt+1-m));\n",
    "end\n",
    "aa0=aa/(2*tt+1);\n",
    "aa0=reshape(aa0,size(aa0,1),size(aa0,2),365,[]);\n",
    "aa0=squeeze(mean(aa0(:,:,:,2:end-1),4));"
   ]
  },
  {
   "cell_type": "code",
   "execution_count": 42,
   "id": "bd52d655-308d-45eb-98b8-be979b276589",
   "metadata": {},
   "outputs": [],
   "source": [
    "air_new=zeros(72,37,365);\n",
    "for m=1:72\n",
    "for n=1:37\n",
    "    lx=5*(m-1);ly=90-5*(n-1);\n",
    "    aa=aa0(lon2>lx-2.5&lon2<lx+2.5,lat2>ly-2.5&lat2<ly+2.5,:);\n",
    "    air_new(m,n,:)=mean(mean(aa,1),2);\n",
    "end\n",
    "end\n",
    "\n",
    "aa=mean(air_new.*exp(1i*2*pi*reshape(1:10,1,1,1,[]) ...\n",
    "    .*reshape(.5:365,1,1,[])/365),3);\n",
    "aa=2*real(aa.*exp(-1i*2*pi*reshape(1:10,1,1,1,[]).*reshape(1/48:1/24:365,1,1,[])/365));\n",
    "aa1=sum(aa(:,:,:,1:4),4);\n",
    "[~,imax]=max(aa1,[],3);imax=imax/24;\n",
    "[~,imin]=min(aa1,[],3);imin=imin/24;\n",
    "imax(imax<imin)=imax(imax<imin)+365;\n",
    "deltaT_5deg=365-2*(imax-imin);\n",
    "\n",
    "lon=[0:5:359]';\n",
    "lat=[90:-5:-90]';\n",
    "deltaT_5deg(:,15:23)=nan;\n",
    "save(append(curr_path,'deltaT_5deg.mat'),'deltaT_5deg','lon','lat');"
   ]
  },
  {
   "cell_type": "markdown",
   "id": "42810560-6698-4341-952f-c7c8b94ba654",
   "metadata": {},
   "source": [
    "## deltaT in different regions"
   ]
  },
  {
   "cell_type": "code",
   "execution_count": 43,
   "id": "a3f1fe79-d0af-4d7e-9164-bdce407da962",
   "metadata": {},
   "outputs": [],
   "source": [
    "aa1=squeeze(mean(aa0,1));\n",
    "aa=mean(aa1.*exp(1i*2*pi*reshape([1:10],1,1,[]).*[.5:365]/365),2);\n",
    "aa=2*real(aa.*exp(-1i*2*pi*reshape([1:10],1,1,[]).*[1/48:1/24:365]/365));\n",
    "aa1=sum(aa(:,:,1:4),3);\n",
    "[~,imax]=max(aa1,[],2);imax=imax/24;\n",
    "[~,imin]=min(aa1,[],2);imin=imin/24;\n",
    "imax(imax<imin)=imax(imax<imin)+365;\n",
    "deltaT_tt=365-2*(imax-imin);\n",
    "\n",
    "aa1=aa0([181:231],:,:);\n",
    "aa1=squeeze(mean(aa1,1));\n",
    "aa=mean(aa1.*exp(1i*2*pi*reshape([1:10],1,1,[]).*[.5:365]/365),2);\n",
    "aa=2*real(aa.*exp(-1i*2*pi*reshape([1:10],1,1,[]).*[1/48:1/24:365]/365));\n",
    "aa1=sum(aa(:,:,1:4),3);\n",
    "[~,imax]=max(aa1,[],2);imax=imax/24;\n",
    "[~,imin]=min(aa1,[],2);imin=imin/24;\n",
    "imax(imax<imin)=imax(imax<imin)+365;\n",
    "deltaT_epo=365-2*(imax-imin);\n",
    "\n",
    "lat=lat2;lat(65:117)=nan;\n",
    "save(append(curr_path,'deltaT_region.mat'),'deltaT_tt','deltaT_epo','lat');"
   ]
  },
  {
   "cell_type": "markdown",
   "id": "daa3d4ce-e7c4-41a4-981a-d9194514d30b",
   "metadata": {},
   "source": [
    "## SAT Annual Cycles"
   ]
  },
  {
   "cell_type": "code",
   "execution_count": 44,
   "id": "32588ebd-a17d-4f07-9410-bde24a26cf70",
   "metadata": {},
   "outputs": [],
   "source": [
    "ll=[151,211,241];\n",
    "aa1=reshape(mean(mean(aa0(ll(1)-2:ll(1)+2,44:48,:),1),2),1,[]);\n",
    "aa1(2,:)=reshape(mean(mean(aa0(ll(2)-2:ll(2)+2,44:48,:),1),2),1,[]);\n",
    "aa1(3,:)=reshape(mean(mean(aa0(ll(3)-2:ll(3)+2,44:48,:),1),2),1,[]);\n",
    "aa1=aa1-mean(aa1,2);\n",
    "[~,imax]=max(aa1,[],2);\n",
    "[~,imin]=min(aa1,[],2);\n",
    "\n",
    "save(append(curr_path,'ac_45.mat'),'aa1','imax','imin');"
   ]
  },
  {
   "cell_type": "markdown",
   "id": "a0b83536-9b78-4dde-882a-98e6c26416c9",
   "metadata": {},
   "source": [
    "## CESM2"
   ]
  },
  {
   "cell_type": "code",
   "execution_count": 45,
   "id": "885b9a17-af09-4071-af98-94dc6605aacd",
   "metadata": {},
   "outputs": [],
   "source": [
    "aa0=t2m_m; %1980-2020\n",
    "aa0=reshape(aa0,size(aa0,1),size(aa0,2),[],3);\n",
    "tt=15;aa=0*aa0;\n",
    "for m=1:2*tt+1\n",
    "    aa(:,:,tt+1:end-tt,:)=aa(:,:,tt+1:end-tt,:)+aa0(:,:,m:end-(2*tt+1-m),:);\n",
    "end\n",
    "aa0=aa/(2*tt+1);\n",
    "aa0=reshape(aa0,size(aa0,1),size(aa0,2),365,[],3);\n",
    "aa0=squeeze(mean(aa0(:,:,:,2:end-1,:),4));"
   ]
  },
  {
   "cell_type": "code",
   "execution_count": 46,
   "id": "434fc722-809b-4135-93d7-50fc17a95426",
   "metadata": {},
   "outputs": [],
   "source": [
    "aa1=squeeze(mean(aa0,1));\n",
    "aa=mean(aa1.*exp(1i*2*pi*reshape([1:10],1,1,1,[]).*[.5:365]/365),2);\n",
    "aa=2*real(aa.*exp(-1i*2*pi*reshape([1:10],1,1,1,[]).*[1/48:1/24:365]/365));\n",
    "aa1=sum(aa(:,:,:,1:4),4);\n",
    "[~,imax]=max(aa1,[],2);imax=imax/24;\n",
    "[~,imin]=min(aa1,[],2);imin=imin/24;\n",
    "imax(imax<imin)=imax(imax<imin)+365;\n",
    "deltaT_cesm=squeeze(365-2*(imax-imin));\n",
    "\n",
    "lat=lat4;lat(35:62)=nan;\n",
    "save(append(curr_path,'deltaT_cesm.mat'),'deltaT_cesm','lat');"
   ]
  },
  {
   "cell_type": "markdown",
   "id": "5cc2866c-0983-4873-a24d-09c9af23b6f6",
   "metadata": {},
   "source": [
    "## Sea Ice"
   ]
  },
  {
   "cell_type": "code",
   "execution_count": 47,
   "id": "737d8f96-558e-4cc3-9d55-65875d0507d9",
   "metadata": {},
   "outputs": [],
   "source": [
    "aa1=sic;\n",
    "aa1(isnan(aa1))=0;\n",
    "sic_std=mean(std(mean(aa1,4),1,3),1)';\n",
    "\n",
    "lat=lat2;\n",
    "save(append(curr_path,'sic_std.mat'),'sic_std','lat');"
   ]
  }
 ],
 "metadata": {
  "kernelspec": {
   "display_name": "MATLAB Kernel",
   "language": "matlab",
   "name": "jupyter_matlab_kernel"
  },
  "language_info": {
   "file_extension": ".m",
   "mimetype": "text/x-matlab",
   "name": "matlab"
  },
  "toc-autonumbering": false,
  "toc-showcode": false,
  "toc-showmarkdowntxt": true,
  "toc-showtags": false
 },
 "nbformat": 4,
 "nbformat_minor": 5
}
